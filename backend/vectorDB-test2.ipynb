{
 "cells": [
  {
   "cell_type": "code",
   "execution_count": 1,
   "metadata": {},
   "outputs": [
    {
     "name": "stdout",
     "output_type": "stream",
     "text": [
      "Requirement already satisfied: openpyxl in /home/ibmuser03/.venv/lib64/python3.12/site-packages (3.1.5)\n",
      "Requirement already satisfied: et-xmlfile in /home/ibmuser03/.venv/lib64/python3.12/site-packages (from openpyxl) (2.0.0)\n"
     ]
    }
   ],
   "source": [
    "!pip install openpyxl"
   ]
  },
  {
   "cell_type": "code",
   "execution_count": 2,
   "metadata": {},
   "outputs": [
    {
     "name": "stdout",
     "output_type": "stream",
     "text": [
      "  case_id                                           scenario  \\\n",
      "0      보1  신호기가 있는 횡단보도에서 녹색신호에 교차로를 통과한 차량(직진, 좌회전, 우회전 ...   \n",
      "1      보2  신호기가 있는 횡단보도에서 황색신호에 교차로를 통과한 차량(직진, 좌회전, 우회전 ...   \n",
      "2      보3  신호기가 있는 횡단보도에서 황색신호에 교차로를 통과한 차량(직진, 좌회전)이 보행자...   \n",
      "3      보4  신호기가 있는 횡단보도에서 황색신호에 교차로에 통과한 차량(직진, 좌회전)이 보행자...   \n",
      "4      보5  신호기가 있는 횡단보도에서 적색신호에 교차로를 통과한 차량(직진, 좌회전, 우회전\\...   \n",
      "\n",
      "                                         explanation  \\\n",
      "0  도로교통법 제5조에 따라 보행자나 차마는 신호기의 신호에 따라야 할 의무가 있으므로...   \n",
      "1  차량이 황색신호에 진입한 경우 신호를 위반한 것이므로 보1 기준보다 보행자의 과실을...   \n",
      "2  도로교통법 제5조에 따라 보행자나 차마 등은 신호기의 신호에 따라야 할 의무가 있으...   \n",
      "3  보행자가 녹색신호에 횡단을 개시하여 녹색신호에 충돌한 경우 보행자에게는 신호 위반의...   \n",
      "4  도로교통법 제5조에 따라 보행자나 차마 등은 신호기의 신호에 따라야 할 의무가 있고...   \n",
      "\n",
      "                                          precedents  \n",
      "0  ⊙대법원 1990.8.10. 선고 90도1116 판결 횡단보도의 표지판이나 신호대가...  \n",
      "1  ⊙대법원 1990.8.10. 선고 90도1116 판결\\n횡단보도의 표지판이나 신호대...  \n",
      "2                                                  x  \n",
      "3  서울지방법원 서부지원 1993.3.9. 선고 92가합12636 판결 야간에 신호기 ...  \n",
      "4  부산지방법원 2013.11.26. 선고 2011가단17263 판결 주간에 삼거리 교...  \n"
     ]
    }
   ],
   "source": [
    "import pandas as pd\n",
    "\n",
    "# \"example.xlsx\" 파일의 첫 번째 시트 데이터를 읽어옵니다.\n",
    "df = pd.read_excel(\"accident_data1.xlsx\")\n",
    "\n",
    "# 데이터프레임 df를 확인\n",
    "print(df.head())"
   ]
  },
  {
   "cell_type": "code",
   "execution_count": 10,
   "metadata": {},
   "outputs": [
    {
     "ename": "AttributeError",
     "evalue": "'DataFrame' object has no attribute 'column'",
     "output_type": "error",
     "traceback": [
      "\u001b[0;31m---------------------------------------------------------------------------\u001b[0m",
      "\u001b[0;31mAttributeError\u001b[0m                            Traceback (most recent call last)",
      "\u001b[0;32m/tmp/ipykernel_448009/1071123522.py\u001b[0m in \u001b[0;36m?\u001b[0;34m()\u001b[0m\n\u001b[0;32m----> 1\u001b[0;31m \u001b[0mdf\u001b[0m\u001b[0;34m.\u001b[0m\u001b[0mcolumn\u001b[0m\u001b[0;34m\u001b[0m\u001b[0;34m\u001b[0m\u001b[0m\n\u001b[0m",
      "\u001b[0;32m~/.venv/lib64/python3.12/site-packages/pandas/core/generic.py\u001b[0m in \u001b[0;36m?\u001b[0;34m(self, name)\u001b[0m\n\u001b[1;32m   6200\u001b[0m             \u001b[0;32mand\u001b[0m \u001b[0mname\u001b[0m \u001b[0;32mnot\u001b[0m \u001b[0;32min\u001b[0m \u001b[0mself\u001b[0m\u001b[0;34m.\u001b[0m\u001b[0m_accessors\u001b[0m\u001b[0;34m\u001b[0m\u001b[0;34m\u001b[0m\u001b[0m\n\u001b[1;32m   6201\u001b[0m             \u001b[0;32mand\u001b[0m \u001b[0mself\u001b[0m\u001b[0;34m.\u001b[0m\u001b[0m_info_axis\u001b[0m\u001b[0;34m.\u001b[0m\u001b[0m_can_hold_identifiers_and_holds_name\u001b[0m\u001b[0;34m(\u001b[0m\u001b[0mname\u001b[0m\u001b[0;34m)\u001b[0m\u001b[0;34m\u001b[0m\u001b[0;34m\u001b[0m\u001b[0m\n\u001b[1;32m   6202\u001b[0m         \u001b[0;34m)\u001b[0m\u001b[0;34m:\u001b[0m\u001b[0;34m\u001b[0m\u001b[0;34m\u001b[0m\u001b[0m\n\u001b[1;32m   6203\u001b[0m             \u001b[0;32mreturn\u001b[0m \u001b[0mself\u001b[0m\u001b[0;34m[\u001b[0m\u001b[0mname\u001b[0m\u001b[0;34m]\u001b[0m\u001b[0;34m\u001b[0m\u001b[0;34m\u001b[0m\u001b[0m\n\u001b[0;32m-> 6204\u001b[0;31m         \u001b[0;32mreturn\u001b[0m \u001b[0mobject\u001b[0m\u001b[0;34m.\u001b[0m\u001b[0m__getattribute__\u001b[0m\u001b[0;34m(\u001b[0m\u001b[0mself\u001b[0m\u001b[0;34m,\u001b[0m \u001b[0mname\u001b[0m\u001b[0;34m)\u001b[0m\u001b[0;34m\u001b[0m\u001b[0;34m\u001b[0m\u001b[0m\n\u001b[0m",
      "\u001b[0;31mAttributeError\u001b[0m: 'DataFrame' object has no attribute 'column'"
     ]
    }
   ],
   "source": [
    "df."
   ]
  },
  {
   "cell_type": "code",
   "execution_count": null,
   "metadata": {},
   "outputs": [],
   "source": []
  }
 ],
 "metadata": {
  "kernelspec": {
   "display_name": ".venv",
   "language": "python",
   "name": "python3"
  },
  "language_info": {
   "codemirror_mode": {
    "name": "ipython",
    "version": 3
   },
   "file_extension": ".py",
   "mimetype": "text/x-python",
   "name": "python",
   "nbconvert_exporter": "python",
   "pygments_lexer": "ipython3",
   "version": "3.12.5"
  }
 },
 "nbformat": 4,
 "nbformat_minor": 2
}
